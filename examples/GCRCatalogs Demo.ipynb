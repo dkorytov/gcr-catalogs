{
 "cells": [
  {
   "cell_type": "markdown",
   "metadata": {},
   "source": [
    "# How to use GCRCatalogs\n",
    "\n",
    "by Yao-Yuan Mao (last update: 5/1/2018)\n",
    "\n",
    "Links to GitHub code repos: [GCRCatalogs](https://github.com/LSSTDESC/gcr-catalogs) and [GCR](https://github.com/yymao/generic-catalog-reader)\n",
    "\n",
    "**Note: You should be running this notebook at https://jupyter-dev.nersc.gov **"
   ]
  },
  {
   "cell_type": "code",
   "execution_count": 1,
   "metadata": {},
   "outputs": [],
   "source": [
    "import sys\n",
    "\n",
    "sys.path.insert(0, '/global/common/software/lsst/common/miniconda/current/lib/python3.6/site-packages')\n",
    "\n",
    "## Note: if you use Python 2, comment the line above and uncomment the line below\n",
    "#sys.path.insert(0, '/global/common/cori/contrib/lsst/apps/anaconda/py2-envs/DESCQA/lib/python2.7/site-packages')\n",
    "\n",
    "## Note: if you clone the gcr-catalogs repo and are running this under the `examples` folder,\n",
    "## you can also use your version of GCRCatalogs:\n",
    "#sys.path.insert(0, '..')\n",
    "\n",
    "## The following lines are to check if you're in the lsst group\n",
    "import subprocess\n",
    "assert u'lsst' in subprocess.check_output(['groups']).decode().split(), 'You need to be in the `lsst` group for this notebook to work'"
   ]
  },
  {
   "cell_type": "code",
   "execution_count": 34,
   "metadata": {},
   "outputs": [],
   "source": [
    "## You must import other packages after `sys.path.insert`\n",
    "import numpy as np"
   ]
  },
  {
   "cell_type": "markdown",
   "metadata": {},
   "source": [
    "## The basics:\n",
    "\n",
    "- `get_available_catalogs()` lists available catlaogs; returns `dict`.\n",
    "- `load_catalog()` loads the catalog you want; returns an instance of `GCR.BaseGenericCatalog`"
   ]
  },
  {
   "cell_type": "code",
   "execution_count": 2,
   "metadata": {},
   "outputs": [
    {
     "name": "stdout",
     "output_type": "stream",
     "text": [
      "GCRCatalogs = 0.6.14 | GCR = 0.6.2\n"
     ]
    }
   ],
   "source": [
    "import GCRCatalogs\n",
    "\n",
    "## check version\n",
    "print('GCRCatalogs =', GCRCatalogs.__version__, '|' ,'GCR =', GCRCatalogs.GCR.__version__)"
   ]
  },
  {
   "cell_type": "code",
   "execution_count": 3,
   "metadata": {},
   "outputs": [
    {
     "name": "stdout",
     "output_type": "stream",
     "text": [
      "buzzard\n",
      "buzzard_high-res\n",
      "buzzard_test\n",
      "dc1\n",
      "protoDC2\n"
     ]
    }
   ],
   "source": [
    "## list all find available catlaogs, sorted by their name\n",
    "\n",
    "print('\\n'.join(sorted(GCRCatalogs.get_available_catalogs())))"
   ]
  },
  {
   "cell_type": "code",
   "execution_count": 4,
   "metadata": {},
   "outputs": [
    {
     "name": "stderr",
     "output_type": "stream",
     "text": [
      "/global/common/software/lsst/common/miniconda/py3-4.2.12/lib/python3.6/site-packages/GCRCatalogs/alphaq.py:77: UserWarning: No md5 sum specified in the config file\n",
      "  warnings.warn('No md5 sum specified in the config file')\n"
     ]
    }
   ],
   "source": [
    "## load 'protoDC2' catalog\n",
    "\n",
    "gc = GCRCatalogs.load_catalog('protoDC2_test') # use 'protoDC2_test' to skip md5 check (which takes a while)\n",
    "#gc = GCRCatalogs.load_catalog('protoDC2')"
   ]
  },
  {
   "cell_type": "markdown",
   "metadata": {},
   "source": [
    "## GCR interface\n",
    "\n",
    "See also the [full GCR API Documentation](https://yymao.github.io/generic-catalog-reader/index.html)."
   ]
  },
  {
   "cell_type": "markdown",
   "metadata": {
    "collapsed": true
   },
   "source": [
    "### quantities\n",
    "\n",
    "- `get_quantities()` loads the quantities you need; takes a `list` and returns `dict`.\n",
    "- `has_quantity()` and `has_quantities()` can check if the quantities you need exist; both return `bool`.\n",
    "- `list_all_quantities()` lists all available catlaogs; returns `list`."
   ]
  },
  {
   "cell_type": "code",
   "execution_count": 5,
   "metadata": {},
   "outputs": [
    {
     "data": {
      "text/plain": [
       "{'dec': array([-2.49390244, -2.4465878 , -2.47334218, ..., -1.57574439,\n",
       "        -1.57624245, -1.56156218], dtype=float32),\n",
       " 'mag_u_lsst': array([ 22.85408396,  20.89889978,  21.49888417, ...,  25.59293414,\n",
       "         23.05899988,  25.42904369]),\n",
       " 'ra': array([ 2.04596066, -1.91125453,  0.76751482, ...,  1.62644827,\n",
       "         1.60419965,  1.60762465], dtype=float32)}"
      ]
     },
     "execution_count": 5,
     "metadata": {},
     "output_type": "execute_result"
    }
   ],
   "source": [
    "gc.get_quantities(['mag_u_lsst', 'ra', 'dec'])"
   ]
  },
  {
   "cell_type": "code",
   "execution_count": 6,
   "metadata": {},
   "outputs": [
    {
     "data": {
      "text/plain": [
       "True"
      ]
     },
     "execution_count": 6,
     "metadata": {},
     "output_type": "execute_result"
    }
   ],
   "source": [
    "gc.has_quantity('mag_u_lsst')"
   ]
  },
  {
   "cell_type": "code",
   "execution_count": 7,
   "metadata": {},
   "outputs": [
    {
     "data": {
      "text/plain": [
       "True"
      ]
     },
     "execution_count": 7,
     "metadata": {},
     "output_type": "execute_result"
    }
   ],
   "source": [
    "gc.has_quantities(['mag_u_lsst', 'ra', 'dec'])"
   ]
  },
  {
   "cell_type": "code",
   "execution_count": 8,
   "metadata": {},
   "outputs": [
    {
     "data": {
      "text/plain": [
       "False"
      ]
     },
     "execution_count": 8,
     "metadata": {},
     "output_type": "execute_result"
    }
   ],
   "source": [
    "## Only returns `True` if *all* quantities exist\n",
    "gc.has_quantities(['mag_u_lsst', 'ra', 'dec', 'quantitiy_that_does_not_exist'])"
   ]
  },
  {
   "cell_type": "code",
   "execution_count": 9,
   "metadata": {},
   "outputs": [
    {
     "name": "stdout",
     "output_type": "stream",
     "text": [
      "A_v, Mag_true_Y_lsst_z0, Mag_true_g_lsst_z0, Mag_true_g_sdss_z0, Mag_true_i_lsst_z0, Mag_true_i_sdss_z0, Mag_true_r_lsst_z0, Mag_true_r_sdss_z0, Mag_true_u_lsst_z0, Mag_true_u_sdss_z0, Mag_true_z_lsst_z0, Mag_true_z_sdss_z0, R_v, bulge_to_total_ratio_i, convergence, dec, dec_true, ellipticity_1_bulge_true, ellipticity_1_disk_true, ellipticity_1_true, ellipticity_2_bulge_true, ellipticity_2_disk_true, ellipticity_2_true, ellipticity_bulge_true, ellipticity_disk_true, ellipticity_true, galaxy_id, halo_id, halo_mass, is_central, mag_Y_lsst, mag_g_lsst, mag_g_sdss, mag_i_lsst, mag_i_sdss, mag_r_lsst, mag_r_sdss, mag_u_lsst, mag_u_sdss, mag_z_lsst, mag_z_sdss, magnification, position_angle_true, position_x, position_y, position_z, ra, ra_true, redshift, redshift_true, sed_1000_246, sed_1000_246_bulge, sed_1000_246_disk, sed_11467_1710, sed_11467_1710_bulge, sed_11467_1710_disk, sed_1246_306, sed_1246_306_bulge, sed_1246_306_disk, sed_13177_1966, sed_13177_1966_bulge, sed_13177_1966_disk, sed_15143_2259, sed_15143_2259_bulge, sed_15143_2259_disk, sed_1552_381, sed_1552_381_bulge, sed_1552_381_disk, sed_17402_2596, sed_17402_2596_bulge, sed_17402_2596_disk, sed_1933_474, sed_1933_474_bulge, sed_1933_474_disk, sed_2407_591, sed_2407_591_bulge, sed_2407_591_disk, sed_2998_186, sed_2998_186_bulge, sed_2998_186_disk, sed_3184_197, sed_3184_197_bulge, sed_3184_197_disk, sed_3381_209, sed_3381_209_bulge, sed_3381_209_disk, sed_3590_222, sed_3590_222_bulge, sed_3590_222_disk, sed_3812_236, sed_3812_236_bulge, sed_3812_236_disk, sed_4048_251, sed_4048_251_bulge, sed_4048_251_disk, sed_4299_266, sed_4299_266_bulge, sed_4299_266_disk, sed_4565_283, sed_4565_283_bulge, sed_4565_283_disk, sed_4848_300, sed_4848_300_bulge, sed_4848_300_disk, sed_5148_319, sed_5148_319_bulge, sed_5148_319_disk, sed_5467_339, sed_5467_339_bulge, sed_5467_339_disk, sed_5806_360, sed_5806_360_bulge, sed_5806_360_disk, sed_6166_382, sed_6166_382_bulge, sed_6166_382_disk, sed_6548_406, sed_6548_406_bulge, sed_6548_406_disk, sed_6954_431, sed_6954_431_bulge, sed_6954_431_disk, sed_7385_458, sed_7385_458_bulge, sed_7385_458_disk, sed_7843_486, sed_7843_486_bulge, sed_7843_486_disk, sed_8329_517, sed_8329_517_bulge, sed_8329_517_disk, sed_8846_549, sed_8846_549_bulge, sed_8846_549_disk, sed_9395_583, sed_9395_583_bulge, sed_9395_583_disk, sed_9978_1489, sed_9978_1489_bulge, sed_9978_1489_disk, sersic_bulge, sersic_disk, shear_1, shear_2, size_bulge_true, size_disk_true, size_minor_bulge_true, size_minor_disk_true, size_minor_true, size_true, stellar_mass, stellar_mass_bulge, stellar_mass_disk, velocity_x, velocity_y, velocity_z\n"
     ]
    }
   ],
   "source": [
    "print(', '.join(sorted(gc.list_all_quantities())))"
   ]
  },
  {
   "cell_type": "markdown",
   "metadata": {},
   "source": [
    "### accessing native quantities\n",
    "\n",
    "Native quantities are quantities that have not yet be homogenized (to common labels/units).\n",
    "However, you can still access them as long as you know what you are doing. "
   ]
  },
  {
   "cell_type": "code",
   "execution_count": 10,
   "metadata": {},
   "outputs": [
    {
     "name": "stdout",
     "output_type": "stream",
     "text": [
      "LSST_filters/diskLuminositiesStellar:LSST_g:observed\n",
      "LSST_filters/diskLuminositiesStellar:LSST_g:observed:dustAtlas\n",
      "LSST_filters/diskLuminositiesStellar:LSST_g:rest\n",
      "LSST_filters/diskLuminositiesStellar:LSST_g:rest:dustAtlas\n",
      "LSST_filters/diskLuminositiesStellar:LSST_i:observed\n"
     ]
    }
   ],
   "source": [
    "## print out the first 5 native quantities\n",
    "\n",
    "print('\\n'.join(sorted(gc.list_all_native_quantities())[:5]))"
   ]
  },
  {
   "cell_type": "code",
   "execution_count": 11,
   "metadata": {},
   "outputs": [
    {
     "data": {
      "text/plain": [
       "{'emissionLines/diskLineLuminosity:balmerAlpha6563:rest': array([  2.95460152e+04,   1.36217248e+07,   7.35076121e+06, ...,\n",
       "          3.28912552e+07,   3.07296106e+08,   3.50137854e+07]),\n",
       " 'emissionLines/diskLineLuminosity:balmerAlpha6563:rest:contam_nitrogenII6584': array([  2.98620241e+04,   1.39448999e+07,   7.57534427e+06, ...,\n",
       "          3.40582469e+07,   3.19260779e+08,   3.63504006e+07])}"
      ]
     },
     "execution_count": 11,
     "metadata": {},
     "output_type": "execute_result"
    }
   ],
   "source": [
    "gc.get_quantities(['emissionLines/diskLineLuminosity:balmerAlpha6563:rest',\n",
    "                   'emissionLines/diskLineLuminosity:balmerAlpha6563:rest:contam_nitrogenII6584'])"
   ]
  },
  {
   "cell_type": "markdown",
   "metadata": {},
   "source": [
    "You can also rename the native quantities by using `add_quantity_modifier()`. For example:"
   ]
  },
  {
   "cell_type": "code",
   "execution_count": 12,
   "metadata": {},
   "outputs": [
    {
     "data": {
      "text/plain": [
       "{'balmer_alpha_6563': array([  2.95460152e+04,   1.36217248e+07,   7.35076121e+06, ...,\n",
       "          3.28912552e+07,   3.07296106e+08,   3.50137854e+07])}"
      ]
     },
     "execution_count": 12,
     "metadata": {},
     "output_type": "execute_result"
    }
   ],
   "source": [
    "gc.add_quantity_modifier('balmer_alpha_6563', 'emissionLines/diskLineLuminosity:balmerAlpha6563:rest')\n",
    "gc.get_quantities(['balmer_alpha_6563'])"
   ]
  },
  {
   "cell_type": "markdown",
   "metadata": {},
   "source": [
    "To get all native quantities that match a regex"
   ]
  },
  {
   "cell_type": "code",
   "execution_count": 18,
   "metadata": {},
   "outputs": [
    {
     "data": {
      "text/plain": [
       "['sed_13177_1966',\n",
       " 'sed_5467_339',\n",
       " 'sed_3184_197',\n",
       " 'sed_6954_431',\n",
       " 'sed_3381_209',\n",
       " 'sed_4848_300',\n",
       " 'sed_4048_251',\n",
       " 'sed_2998_186',\n",
       " 'sed_8329_517',\n",
       " 'sed_7385_458',\n",
       " 'sed_1933_474',\n",
       " 'sed_4565_283',\n",
       " 'sed_4299_266',\n",
       " 'sed_7843_486',\n",
       " 'sed_1552_381',\n",
       " 'sed_2407_591',\n",
       " 'sed_6166_382',\n",
       " 'sed_5806_360',\n",
       " 'sed_6548_406',\n",
       " 'sed_1246_306',\n",
       " 'sed_8846_549',\n",
       " 'sed_3812_236',\n",
       " 'sed_15143_2259',\n",
       " 'sed_5148_319',\n",
       " 'sed_17402_2596',\n",
       " 'sed_1000_246',\n",
       " 'sed_3590_222',\n",
       " 'sed_9978_1489',\n",
       " 'sed_9395_583',\n",
       " 'sed_11467_1710']"
      ]
     },
     "execution_count": 18,
     "metadata": {},
     "output_type": "execute_result"
    }
   ],
   "source": [
    "import re\n",
    "\n",
    "data = gc.get_quantities([q for q in gc.list_all_quantities() if re.match(r'sed_\\d+_\\d+$', q)])\n",
    "list(data.keys())"
   ]
  },
  {
   "cell_type": "markdown",
   "metadata": {},
   "source": [
    "### more info about the catalog\n",
    "\n",
    "- `lightcone` is a `bool`\n",
    "- `cosmology` is a instance of `astropy.cosmology.FLRW`\n",
    "- `get_input_kwargs()` returns a `dict` (when no argument) from the orignal yaml config file. \n",
    "  If a argument if passed, it returns the corresponding value for key=argument"
   ]
  },
  {
   "cell_type": "code",
   "execution_count": 19,
   "metadata": {},
   "outputs": [
    {
     "data": {
      "text/plain": [
       "True"
      ]
     },
     "execution_count": 19,
     "metadata": {},
     "output_type": "execute_result"
    }
   ],
   "source": [
    "gc.lightcone"
   ]
  },
  {
   "cell_type": "code",
   "execution_count": 20,
   "metadata": {},
   "outputs": [
    {
     "data": {
      "text/plain": [
       "FlatLambdaCDM(H0=71 km / (Mpc s), Om0=0.265, Tcmb0=0 K, Neff=3.04, m_nu=None, Ob0=0.0448)"
      ]
     },
     "execution_count": 20,
     "metadata": {},
     "output_type": "execute_result"
    }
   ],
   "source": [
    "gc.cosmology"
   ]
  },
  {
   "cell_type": "code",
   "execution_count": 21,
   "metadata": {},
   "outputs": [
    {
     "data": {
      "text/plain": [
       "'2.1.2'"
      ]
     },
     "execution_count": 21,
     "metadata": {},
     "output_type": "execute_result"
    }
   ],
   "source": [
    "gc.version"
   ]
  },
  {
   "cell_type": "code",
   "execution_count": 22,
   "metadata": {},
   "outputs": [
    {
     "name": "stdout",
     "output_type": "stream",
     "text": [
      "ProtoDC2 is a down-scaled version of the catalog to be generated for LSST-DESC DC2.\n",
      "For a description of the catalog and the methods, please see https://goo.gl/fXDQwP\n",
      "No check of MD5 sum in this version.\n",
      "\n"
     ]
    }
   ],
   "source": [
    "print(gc.get_catalog_info('description'))"
   ]
  },
  {
   "cell_type": "code",
   "execution_count": 23,
   "metadata": {},
   "outputs": [
    {
     "name": "stdout",
     "output_type": "stream",
     "text": [
      "{'subclass_name': 'alphaq.AlphaQGalaxyCatalog', 'filename': '/global/projecta/projectdirs/lsst/groups/CS/descqa/catalog/ANL_AlphaQ_v2.1.2.hdf5', 'lightcone': True, 'version': '2.1.2', 'creators': ['Eve Kovacs', 'Danila Korytov', 'Katrin Heitmann', 'Andrew Benson'], 'description': 'ProtoDC2 is a down-scaled version of the catalog to be generated for LSST-DESC DC2.\\nFor a description of the catalog and the methods, please see https://goo.gl/fXDQwP\\nNo check of MD5 sum in this version.\\n'}\n"
     ]
    }
   ],
   "source": [
    "print(gc.get_catalog_info())"
   ]
  },
  {
   "cell_type": "code",
   "execution_count": 25,
   "metadata": {},
   "outputs": [
    {
     "name": "stdout",
     "output_type": "stream",
     "text": [
      "A_v None\n",
      "Mag_true_Y_lsst_z0 {'units': 'AB magnitude'}\n",
      "Mag_true_g_lsst_z0 {'units': 'AB magnitude'}\n",
      "Mag_true_g_sdss_z0 {'units': 'AB magnitude'}\n",
      "Mag_true_i_lsst_z0 {'units': 'AB magnitude'}\n",
      "Mag_true_i_sdss_z0 {'units': 'AB magnitude'}\n",
      "Mag_true_r_lsst_z0 {'units': 'AB magnitude'}\n",
      "Mag_true_r_sdss_z0 {'units': 'AB magnitude'}\n",
      "Mag_true_u_lsst_z0 {'units': 'AB magnitude'}\n",
      "Mag_true_u_sdss_z0 {'units': 'AB magnitude'}\n",
      "Mag_true_z_lsst_z0 {'units': 'AB magnitude'}\n",
      "Mag_true_z_sdss_z0 {'units': 'AB magnitude'}\n",
      "R_v None\n",
      "balmer_alpha_6563 {'units': 'AB luminosity (4.4659e13 W/Hz)'}\n",
      "bulge_to_total_ratio_i None\n",
      "convergence None\n",
      "dec {'units': 'degrees'}\n",
      "dec_true {'units': 'degrees'}\n",
      "ellipticity_1_bulge_true {'units': 'unitless'}\n",
      "ellipticity_1_disk_true {'units': 'unitless'}\n"
     ]
    },
    {
     "name": "stderr",
     "output_type": "stream",
     "text": [
      "/global/common/software/lsst/common/miniconda/py3-4.2.12/lib/python3.6/site-packages/GCRCatalogs/alphaq.py:266: UserWarning: This value is composed of a function on native quantities. So we have no idea what the units are\n",
      "  warnings.warn('This value is composed of a function on native quantities. So we have no idea what the units are')\n"
     ]
    }
   ],
   "source": [
    "for q in sorted(gc.list_all_quantities())[:20]:\n",
    "    print(q, gc.get_quantity_info(q))"
   ]
  },
  {
   "cell_type": "markdown",
   "metadata": {},
   "source": [
    "### use filters\n",
    "\n",
    "You can specify `filters` in `get_quantities` to select a subset of data. \n",
    "Note that `filters` always takes a list."
   ]
  },
  {
   "cell_type": "code",
   "execution_count": 31,
   "metadata": {},
   "outputs": [
    {
     "name": "stdout",
     "output_type": "stream",
     "text": [
      "True\n"
     ]
    }
   ],
   "source": [
    "# note that we use a list even there is only one filter\n",
    "\n",
    "data = gc.get_quantities(['stellar_mass', 'ra', 'dec'], filters=['stellar_mass > 1e10']) \n",
    "print((data['stellar_mass'] > 1e10).all())"
   ]
  },
  {
   "cell_type": "code",
   "execution_count": 40,
   "metadata": {},
   "outputs": [
    {
     "name": "stdout",
     "output_type": "stream",
     "text": [
      "332306\n",
      "332306\n"
     ]
    }
   ],
   "source": [
    "## You can use more than one filter.\n",
    "\n",
    "data = gc.get_quantities(['stellar_mass'], filters=['ra < -2', 'dec > 1'])\n",
    "print(len(data['stellar_mass']))\n",
    "\n",
    "data_check = gc.get_quantities(['ra', 'dec'])\n",
    "print(np.count_nonzero((data_check['ra'] < -2) & (data_check['dec'] > 1)))"
   ]
  },
  {
   "cell_type": "code",
   "execution_count": 41,
   "metadata": {},
   "outputs": [],
   "source": [
    "# For more complicated filters, specify them as tuple of (callable, quantity1, quantity2, ...)\n",
    "\n",
    "data = gc.get_quantities(['stellar_mass'], filters=[(np.isfinite, 'stellar_mass')])"
   ]
  },
  {
   "cell_type": "markdown",
   "metadata": {},
   "source": [
    "#### native filters\n",
    "\n",
    "Some catalogs (currently only buzzard and buzzard_high-res) support \"native filters\", which you can use to load only a subset of data more efficiently. \n",
    "\n",
    "Note that `native_filters` only takes a list of tuples, in the form of `[(callable, quantity1, quantity2, ...), ...]`"
   ]
  },
  {
   "cell_type": "code",
   "execution_count": 46,
   "metadata": {},
   "outputs": [
    {
     "name": "stdout",
     "output_type": "stream",
     "text": [
      "{'healpix_pixel'}\n",
      "44.9959447517 56.2350032152 4.77918879056 14.4744615426\n"
     ]
    }
   ],
   "source": [
    "gc_buzzard = GCRCatalogs.load_catalog('buzzard')\n",
    "print(gc_buzzard._native_filter_quantities)\n",
    "\n",
    "data = gc_buzzard.get_quantities(['ra', 'dec'], native_filters=[(lambda p: p==1, 'healpix_pixel')])\n",
    "print(data['ra'].min(), data['ra'].max(), data['dec'].min(), data['dec'].max())"
   ]
  },
  {
   "cell_type": "markdown",
   "metadata": {},
   "source": [
    "### more tips on using the quantities\n",
    "\n",
    "#### tip 1\n",
    "`get_quantities()` returns a dictionary, which you can easily turn into a `astropy.table.Table` or `pandas.DataFrame`"
   ]
  },
  {
   "cell_type": "code",
   "execution_count": 47,
   "metadata": {},
   "outputs": [],
   "source": [
    "data = gc.get_quantities(['mag_u_lsst', 'ra', 'dec'])"
   ]
  },
  {
   "cell_type": "code",
   "execution_count": 48,
   "metadata": {
    "scrolled": true
   },
   "outputs": [
    {
     "data": {
      "text/html": [
       "<div>\n",
       "<style>\n",
       "    .dataframe thead tr:only-child th {\n",
       "        text-align: right;\n",
       "    }\n",
       "\n",
       "    .dataframe thead th {\n",
       "        text-align: left;\n",
       "    }\n",
       "\n",
       "    .dataframe tbody tr th {\n",
       "        vertical-align: top;\n",
       "    }\n",
       "</style>\n",
       "<table border=\"1\" class=\"dataframe\">\n",
       "  <thead>\n",
       "    <tr style=\"text-align: right;\">\n",
       "      <th></th>\n",
       "      <th>dec</th>\n",
       "      <th>mag_u_lsst</th>\n",
       "      <th>ra</th>\n",
       "    </tr>\n",
       "  </thead>\n",
       "  <tbody>\n",
       "    <tr>\n",
       "      <th>0</th>\n",
       "      <td>-2.493902</td>\n",
       "      <td>22.854084</td>\n",
       "      <td>2.045961</td>\n",
       "    </tr>\n",
       "    <tr>\n",
       "      <th>1</th>\n",
       "      <td>-2.446588</td>\n",
       "      <td>20.898900</td>\n",
       "      <td>-1.911255</td>\n",
       "    </tr>\n",
       "    <tr>\n",
       "      <th>2</th>\n",
       "      <td>-2.473342</td>\n",
       "      <td>21.498884</td>\n",
       "      <td>0.767515</td>\n",
       "    </tr>\n",
       "    <tr>\n",
       "      <th>3</th>\n",
       "      <td>-2.490980</td>\n",
       "      <td>23.390713</td>\n",
       "      <td>-1.924229</td>\n",
       "    </tr>\n",
       "    <tr>\n",
       "      <th>4</th>\n",
       "      <td>-2.498992</td>\n",
       "      <td>23.324795</td>\n",
       "      <td>-1.932602</td>\n",
       "    </tr>\n",
       "    <tr>\n",
       "      <th>5</th>\n",
       "      <td>-2.497787</td>\n",
       "      <td>24.671431</td>\n",
       "      <td>-1.932419</td>\n",
       "    </tr>\n",
       "    <tr>\n",
       "      <th>6</th>\n",
       "      <td>-2.492819</td>\n",
       "      <td>24.665397</td>\n",
       "      <td>-1.933936</td>\n",
       "    </tr>\n",
       "    <tr>\n",
       "      <th>7</th>\n",
       "      <td>-2.490286</td>\n",
       "      <td>25.212185</td>\n",
       "      <td>-1.943685</td>\n",
       "    </tr>\n",
       "    <tr>\n",
       "      <th>8</th>\n",
       "      <td>-2.484439</td>\n",
       "      <td>24.560172</td>\n",
       "      <td>-1.933810</td>\n",
       "    </tr>\n",
       "    <tr>\n",
       "      <th>9</th>\n",
       "      <td>-2.499003</td>\n",
       "      <td>25.115313</td>\n",
       "      <td>-1.929253</td>\n",
       "    </tr>\n",
       "    <tr>\n",
       "      <th>10</th>\n",
       "      <td>-2.478934</td>\n",
       "      <td>23.858041</td>\n",
       "      <td>-1.958215</td>\n",
       "    </tr>\n",
       "    <tr>\n",
       "      <th>11</th>\n",
       "      <td>-2.464998</td>\n",
       "      <td>22.082749</td>\n",
       "      <td>-1.978467</td>\n",
       "    </tr>\n",
       "    <tr>\n",
       "      <th>12</th>\n",
       "      <td>-2.484675</td>\n",
       "      <td>21.456219</td>\n",
       "      <td>-2.099496</td>\n",
       "    </tr>\n",
       "    <tr>\n",
       "      <th>13</th>\n",
       "      <td>-2.440670</td>\n",
       "      <td>20.411777</td>\n",
       "      <td>-2.330351</td>\n",
       "    </tr>\n",
       "    <tr>\n",
       "      <th>14</th>\n",
       "      <td>-2.496593</td>\n",
       "      <td>23.207302</td>\n",
       "      <td>-0.756912</td>\n",
       "    </tr>\n",
       "    <tr>\n",
       "      <th>15</th>\n",
       "      <td>-2.459133</td>\n",
       "      <td>24.303734</td>\n",
       "      <td>-2.000318</td>\n",
       "    </tr>\n",
       "    <tr>\n",
       "      <th>16</th>\n",
       "      <td>-2.489252</td>\n",
       "      <td>24.942023</td>\n",
       "      <td>-0.842948</td>\n",
       "    </tr>\n",
       "    <tr>\n",
       "      <th>17</th>\n",
       "      <td>-2.498049</td>\n",
       "      <td>20.877622</td>\n",
       "      <td>-1.932640</td>\n",
       "    </tr>\n",
       "    <tr>\n",
       "      <th>18</th>\n",
       "      <td>-2.493914</td>\n",
       "      <td>22.228049</td>\n",
       "      <td>-1.924268</td>\n",
       "    </tr>\n",
       "    <tr>\n",
       "      <th>19</th>\n",
       "      <td>-2.480436</td>\n",
       "      <td>23.752953</td>\n",
       "      <td>-1.001719</td>\n",
       "    </tr>\n",
       "    <tr>\n",
       "      <th>20</th>\n",
       "      <td>-2.479755</td>\n",
       "      <td>23.208916</td>\n",
       "      <td>-1.003658</td>\n",
       "    </tr>\n",
       "    <tr>\n",
       "      <th>21</th>\n",
       "      <td>-2.464710</td>\n",
       "      <td>23.715850</td>\n",
       "      <td>-1.714146</td>\n",
       "    </tr>\n",
       "    <tr>\n",
       "      <th>22</th>\n",
       "      <td>-2.485816</td>\n",
       "      <td>22.790951</td>\n",
       "      <td>-0.791366</td>\n",
       "    </tr>\n",
       "    <tr>\n",
       "      <th>23</th>\n",
       "      <td>-2.459293</td>\n",
       "      <td>20.073363</td>\n",
       "      <td>-1.593005</td>\n",
       "    </tr>\n",
       "    <tr>\n",
       "      <th>24</th>\n",
       "      <td>-2.479002</td>\n",
       "      <td>20.251129</td>\n",
       "      <td>-0.991936</td>\n",
       "    </tr>\n",
       "    <tr>\n",
       "      <th>25</th>\n",
       "      <td>-2.485983</td>\n",
       "      <td>24.649878</td>\n",
       "      <td>-0.353874</td>\n",
       "    </tr>\n",
       "    <tr>\n",
       "      <th>26</th>\n",
       "      <td>-2.485561</td>\n",
       "      <td>20.889439</td>\n",
       "      <td>-1.710813</td>\n",
       "    </tr>\n",
       "    <tr>\n",
       "      <th>27</th>\n",
       "      <td>-2.454402</td>\n",
       "      <td>24.304339</td>\n",
       "      <td>-2.023513</td>\n",
       "    </tr>\n",
       "    <tr>\n",
       "      <th>28</th>\n",
       "      <td>-2.495926</td>\n",
       "      <td>24.745613</td>\n",
       "      <td>-2.464516</td>\n",
       "    </tr>\n",
       "    <tr>\n",
       "      <th>29</th>\n",
       "      <td>-2.469320</td>\n",
       "      <td>24.413685</td>\n",
       "      <td>-0.579397</td>\n",
       "    </tr>\n",
       "    <tr>\n",
       "      <th>...</th>\n",
       "      <td>...</td>\n",
       "      <td>...</td>\n",
       "      <td>...</td>\n",
       "    </tr>\n",
       "    <tr>\n",
       "      <th>10022466</th>\n",
       "      <td>-1.505049</td>\n",
       "      <td>23.708363</td>\n",
       "      <td>1.604151</td>\n",
       "    </tr>\n",
       "    <tr>\n",
       "      <th>10022467</th>\n",
       "      <td>-1.598868</td>\n",
       "      <td>24.526492</td>\n",
       "      <td>1.630475</td>\n",
       "    </tr>\n",
       "    <tr>\n",
       "      <th>10022468</th>\n",
       "      <td>-1.578866</td>\n",
       "      <td>25.764100</td>\n",
       "      <td>1.626044</td>\n",
       "    </tr>\n",
       "    <tr>\n",
       "      <th>10022469</th>\n",
       "      <td>-1.540761</td>\n",
       "      <td>26.793652</td>\n",
       "      <td>1.601780</td>\n",
       "    </tr>\n",
       "    <tr>\n",
       "      <th>10022470</th>\n",
       "      <td>-1.584410</td>\n",
       "      <td>26.725769</td>\n",
       "      <td>1.627218</td>\n",
       "    </tr>\n",
       "    <tr>\n",
       "      <th>10022471</th>\n",
       "      <td>-1.571832</td>\n",
       "      <td>25.523858</td>\n",
       "      <td>1.606527</td>\n",
       "    </tr>\n",
       "    <tr>\n",
       "      <th>10022472</th>\n",
       "      <td>-1.507587</td>\n",
       "      <td>27.130554</td>\n",
       "      <td>1.618084</td>\n",
       "    </tr>\n",
       "    <tr>\n",
       "      <th>10022473</th>\n",
       "      <td>-1.507306</td>\n",
       "      <td>26.762693</td>\n",
       "      <td>1.614714</td>\n",
       "    </tr>\n",
       "    <tr>\n",
       "      <th>10022474</th>\n",
       "      <td>-1.495215</td>\n",
       "      <td>27.154435</td>\n",
       "      <td>1.606030</td>\n",
       "    </tr>\n",
       "    <tr>\n",
       "      <th>10022475</th>\n",
       "      <td>-1.575892</td>\n",
       "      <td>29.384039</td>\n",
       "      <td>1.606580</td>\n",
       "    </tr>\n",
       "    <tr>\n",
       "      <th>10022476</th>\n",
       "      <td>-1.570465</td>\n",
       "      <td>28.352868</td>\n",
       "      <td>1.616315</td>\n",
       "    </tr>\n",
       "    <tr>\n",
       "      <th>10022477</th>\n",
       "      <td>-1.569105</td>\n",
       "      <td>23.932302</td>\n",
       "      <td>1.610006</td>\n",
       "    </tr>\n",
       "    <tr>\n",
       "      <th>10022478</th>\n",
       "      <td>-1.564912</td>\n",
       "      <td>25.948968</td>\n",
       "      <td>1.625677</td>\n",
       "    </tr>\n",
       "    <tr>\n",
       "      <th>10022479</th>\n",
       "      <td>-1.571463</td>\n",
       "      <td>26.500836</td>\n",
       "      <td>1.620499</td>\n",
       "    </tr>\n",
       "    <tr>\n",
       "      <th>10022480</th>\n",
       "      <td>-1.507302</td>\n",
       "      <td>27.789902</td>\n",
       "      <td>1.605122</td>\n",
       "    </tr>\n",
       "    <tr>\n",
       "      <th>10022481</th>\n",
       "      <td>-1.590637</td>\n",
       "      <td>25.398300</td>\n",
       "      <td>1.611574</td>\n",
       "    </tr>\n",
       "    <tr>\n",
       "      <th>10022482</th>\n",
       "      <td>-1.575847</td>\n",
       "      <td>27.269351</td>\n",
       "      <td>1.604613</td>\n",
       "    </tr>\n",
       "    <tr>\n",
       "      <th>10022483</th>\n",
       "      <td>-1.574750</td>\n",
       "      <td>28.617125</td>\n",
       "      <td>1.611056</td>\n",
       "    </tr>\n",
       "    <tr>\n",
       "      <th>10022484</th>\n",
       "      <td>-1.550810</td>\n",
       "      <td>28.301127</td>\n",
       "      <td>1.582789</td>\n",
       "    </tr>\n",
       "    <tr>\n",
       "      <th>10022485</th>\n",
       "      <td>-1.543169</td>\n",
       "      <td>26.355287</td>\n",
       "      <td>1.556661</td>\n",
       "    </tr>\n",
       "    <tr>\n",
       "      <th>10022486</th>\n",
       "      <td>-1.504912</td>\n",
       "      <td>26.211712</td>\n",
       "      <td>1.611375</td>\n",
       "    </tr>\n",
       "    <tr>\n",
       "      <th>10022487</th>\n",
       "      <td>-1.525852</td>\n",
       "      <td>27.558156</td>\n",
       "      <td>1.596373</td>\n",
       "    </tr>\n",
       "    <tr>\n",
       "      <th>10022488</th>\n",
       "      <td>-1.496973</td>\n",
       "      <td>27.292099</td>\n",
       "      <td>1.604815</td>\n",
       "    </tr>\n",
       "    <tr>\n",
       "      <th>10022489</th>\n",
       "      <td>-1.500150</td>\n",
       "      <td>26.243309</td>\n",
       "      <td>1.602228</td>\n",
       "    </tr>\n",
       "    <tr>\n",
       "      <th>10022490</th>\n",
       "      <td>-1.499838</td>\n",
       "      <td>25.497607</td>\n",
       "      <td>1.595045</td>\n",
       "    </tr>\n",
       "    <tr>\n",
       "      <th>10022491</th>\n",
       "      <td>-1.578556</td>\n",
       "      <td>25.634294</td>\n",
       "      <td>1.614391</td>\n",
       "    </tr>\n",
       "    <tr>\n",
       "      <th>10022492</th>\n",
       "      <td>-1.586818</td>\n",
       "      <td>24.767562</td>\n",
       "      <td>1.606329</td>\n",
       "    </tr>\n",
       "    <tr>\n",
       "      <th>10022493</th>\n",
       "      <td>-1.575744</td>\n",
       "      <td>25.592934</td>\n",
       "      <td>1.626448</td>\n",
       "    </tr>\n",
       "    <tr>\n",
       "      <th>10022494</th>\n",
       "      <td>-1.576242</td>\n",
       "      <td>23.059000</td>\n",
       "      <td>1.604200</td>\n",
       "    </tr>\n",
       "    <tr>\n",
       "      <th>10022495</th>\n",
       "      <td>-1.561562</td>\n",
       "      <td>25.429044</td>\n",
       "      <td>1.607625</td>\n",
       "    </tr>\n",
       "  </tbody>\n",
       "</table>\n",
       "<p>10022496 rows × 3 columns</p>\n",
       "</div>"
      ],
      "text/plain": [
       "               dec  mag_u_lsst        ra\n",
       "0        -2.493902   22.854084  2.045961\n",
       "1        -2.446588   20.898900 -1.911255\n",
       "2        -2.473342   21.498884  0.767515\n",
       "3        -2.490980   23.390713 -1.924229\n",
       "4        -2.498992   23.324795 -1.932602\n",
       "5        -2.497787   24.671431 -1.932419\n",
       "6        -2.492819   24.665397 -1.933936\n",
       "7        -2.490286   25.212185 -1.943685\n",
       "8        -2.484439   24.560172 -1.933810\n",
       "9        -2.499003   25.115313 -1.929253\n",
       "10       -2.478934   23.858041 -1.958215\n",
       "11       -2.464998   22.082749 -1.978467\n",
       "12       -2.484675   21.456219 -2.099496\n",
       "13       -2.440670   20.411777 -2.330351\n",
       "14       -2.496593   23.207302 -0.756912\n",
       "15       -2.459133   24.303734 -2.000318\n",
       "16       -2.489252   24.942023 -0.842948\n",
       "17       -2.498049   20.877622 -1.932640\n",
       "18       -2.493914   22.228049 -1.924268\n",
       "19       -2.480436   23.752953 -1.001719\n",
       "20       -2.479755   23.208916 -1.003658\n",
       "21       -2.464710   23.715850 -1.714146\n",
       "22       -2.485816   22.790951 -0.791366\n",
       "23       -2.459293   20.073363 -1.593005\n",
       "24       -2.479002   20.251129 -0.991936\n",
       "25       -2.485983   24.649878 -0.353874\n",
       "26       -2.485561   20.889439 -1.710813\n",
       "27       -2.454402   24.304339 -2.023513\n",
       "28       -2.495926   24.745613 -2.464516\n",
       "29       -2.469320   24.413685 -0.579397\n",
       "...            ...         ...       ...\n",
       "10022466 -1.505049   23.708363  1.604151\n",
       "10022467 -1.598868   24.526492  1.630475\n",
       "10022468 -1.578866   25.764100  1.626044\n",
       "10022469 -1.540761   26.793652  1.601780\n",
       "10022470 -1.584410   26.725769  1.627218\n",
       "10022471 -1.571832   25.523858  1.606527\n",
       "10022472 -1.507587   27.130554  1.618084\n",
       "10022473 -1.507306   26.762693  1.614714\n",
       "10022474 -1.495215   27.154435  1.606030\n",
       "10022475 -1.575892   29.384039  1.606580\n",
       "10022476 -1.570465   28.352868  1.616315\n",
       "10022477 -1.569105   23.932302  1.610006\n",
       "10022478 -1.564912   25.948968  1.625677\n",
       "10022479 -1.571463   26.500836  1.620499\n",
       "10022480 -1.507302   27.789902  1.605122\n",
       "10022481 -1.590637   25.398300  1.611574\n",
       "10022482 -1.575847   27.269351  1.604613\n",
       "10022483 -1.574750   28.617125  1.611056\n",
       "10022484 -1.550810   28.301127  1.582789\n",
       "10022485 -1.543169   26.355287  1.556661\n",
       "10022486 -1.504912   26.211712  1.611375\n",
       "10022487 -1.525852   27.558156  1.596373\n",
       "10022488 -1.496973   27.292099  1.604815\n",
       "10022489 -1.500150   26.243309  1.602228\n",
       "10022490 -1.499838   25.497607  1.595045\n",
       "10022491 -1.578556   25.634294  1.614391\n",
       "10022492 -1.586818   24.767562  1.606329\n",
       "10022493 -1.575744   25.592934  1.626448\n",
       "10022494 -1.576242   23.059000  1.604200\n",
       "10022495 -1.561562   25.429044  1.607625\n",
       "\n",
       "[10022496 rows x 3 columns]"
      ]
     },
     "execution_count": 48,
     "metadata": {},
     "output_type": "execute_result"
    }
   ],
   "source": [
    "import pandas as pd\n",
    "pd.DataFrame(data)"
   ]
  },
  {
   "cell_type": "code",
   "execution_count": 49,
   "metadata": {
    "scrolled": true
   },
   "outputs": [
    {
     "data": {
      "text/html": [
       "&lt;Table length=10022496&gt;\n",
       "<table id=\"table47814695696984\" class=\"table-striped table-bordered table-condensed\">\n",
       "<thead><tr><th>mag_u_lsst</th><th>dec</th><th>ra</th></tr></thead>\n",
       "<thead><tr><th>float64</th><th>float32</th><th>float32</th></tr></thead>\n",
       "<tr><td>22.854083964</td><td>-2.4939</td><td>2.04596</td></tr>\n",
       "<tr><td>20.898899778</td><td>-2.44659</td><td>-1.91125</td></tr>\n",
       "<tr><td>21.4988841667</td><td>-2.47334</td><td>0.767515</td></tr>\n",
       "<tr><td>23.3907129004</td><td>-2.49098</td><td>-1.92423</td></tr>\n",
       "<tr><td>23.3247952146</td><td>-2.49899</td><td>-1.9326</td></tr>\n",
       "<tr><td>24.6714314075</td><td>-2.49779</td><td>-1.93242</td></tr>\n",
       "<tr><td>24.6653968004</td><td>-2.49282</td><td>-1.93394</td></tr>\n",
       "<tr><td>25.2121852079</td><td>-2.49029</td><td>-1.94369</td></tr>\n",
       "<tr><td>24.5601718799</td><td>-2.48444</td><td>-1.93381</td></tr>\n",
       "<tr><td>25.1153127079</td><td>-2.499</td><td>-1.92925</td></tr>\n",
       "<tr><td>...</td><td>...</td><td>...</td></tr>\n",
       "<tr><td>26.2117123651</td><td>-1.50491</td><td>1.61138</td></tr>\n",
       "<tr><td>27.5581560531</td><td>-1.52585</td><td>1.59637</td></tr>\n",
       "<tr><td>27.2920994915</td><td>-1.49697</td><td>1.60481</td></tr>\n",
       "<tr><td>26.2433088084</td><td>-1.50015</td><td>1.60223</td></tr>\n",
       "<tr><td>25.4976073237</td><td>-1.49984</td><td>1.59504</td></tr>\n",
       "<tr><td>25.6342943852</td><td>-1.57856</td><td>1.61439</td></tr>\n",
       "<tr><td>24.7675616997</td><td>-1.58682</td><td>1.60633</td></tr>\n",
       "<tr><td>25.5929341432</td><td>-1.57574</td><td>1.62645</td></tr>\n",
       "<tr><td>23.0589998787</td><td>-1.57624</td><td>1.6042</td></tr>\n",
       "<tr><td>25.4290436948</td><td>-1.56156</td><td>1.60762</td></tr>\n",
       "</table>"
      ],
      "text/plain": [
       "<Table length=10022496>\n",
       "  mag_u_lsst    dec       ra   \n",
       "   float64    float32  float32 \n",
       "------------- -------- --------\n",
       " 22.854083964  -2.4939  2.04596\n",
       " 20.898899778 -2.44659 -1.91125\n",
       "21.4988841667 -2.47334 0.767515\n",
       "23.3907129004 -2.49098 -1.92423\n",
       "23.3247952146 -2.49899  -1.9326\n",
       "24.6714314075 -2.49779 -1.93242\n",
       "24.6653968004 -2.49282 -1.93394\n",
       "25.2121852079 -2.49029 -1.94369\n",
       "24.5601718799 -2.48444 -1.93381\n",
       "25.1153127079   -2.499 -1.92925\n",
       "          ...      ...      ...\n",
       "26.2117123651 -1.50491  1.61138\n",
       "27.5581560531 -1.52585  1.59637\n",
       "27.2920994915 -1.49697  1.60481\n",
       "26.2433088084 -1.50015  1.60223\n",
       "25.4976073237 -1.49984  1.59504\n",
       "25.6342943852 -1.57856  1.61439\n",
       "24.7675616997 -1.58682  1.60633\n",
       "25.5929341432 -1.57574  1.62645\n",
       "23.0589998787 -1.57624   1.6042\n",
       "25.4290436948 -1.56156  1.60762"
      ]
     },
     "execution_count": 49,
     "metadata": {},
     "output_type": "execute_result"
    }
   ],
   "source": [
    "from astropy.table import Table\n",
    "Table(data)"
   ]
  },
  {
   "cell_type": "markdown",
   "metadata": {},
   "source": [
    "#### tip 2\n",
    "\n",
    "Sometimes you can allow slightly different quantiies (for example, lsst u band and sdss u band) when comparing different catalogs. In this case, you can use `first_available()` to get the first available of the given catalog."
   ]
  },
  {
   "cell_type": "code",
   "execution_count": 50,
   "metadata": {},
   "outputs": [
    {
     "name": "stderr",
     "output_type": "stream",
     "text": [
      "/global/common/software/lsst/common/miniconda/py3-4.2.12/lib/python3.6/site-packages/GCR.py:200: UserWarning: mag_u_des not available; using mag_u_sdss instead\n",
      "  warnings.warn('{} not available; using {} instead'.format(quantities[0], q))\n"
     ]
    },
    {
     "data": {
      "text/plain": [
       "'mag_u_sdss'"
      ]
     },
     "execution_count": 50,
     "metadata": {},
     "output_type": "execute_result"
    }
   ],
   "source": [
    "gc.first_available('mag_u_des', 'mag_u_sdss', 'mag_u_lsst')"
   ]
  },
  {
   "cell_type": "markdown",
   "metadata": {},
   "source": [
    "### Here's a full example"
   ]
  },
  {
   "cell_type": "code",
   "execution_count": 51,
   "metadata": {},
   "outputs": [],
   "source": [
    "import numpy as np\n",
    "from astropy.table import Table\n",
    "import matplotlib.pyplot as plt\n",
    "%matplotlib inline"
   ]
  },
  {
   "cell_type": "code",
   "execution_count": 52,
   "metadata": {},
   "outputs": [
    {
     "name": "stderr",
     "output_type": "stream",
     "text": [
      "/global/common/software/lsst/common/miniconda/py3-4.2.12/lib/python3.6/site-packages/GCRCatalogs/alphaq.py:77: UserWarning: No md5 sum specified in the config file\n",
      "  warnings.warn('No md5 sum specified in the config file')\n"
     ]
    }
   ],
   "source": [
    "catalogs = ('protoDC2_test', 'buzzard_test')\n",
    "gc_all = dict(zip(catalogs, (GCRCatalogs.load_catalog(c) for c in catalogs)))"
   ]
  },
  {
   "cell_type": "code",
   "execution_count": 53,
   "metadata": {},
   "outputs": [
    {
     "name": "stderr",
     "output_type": "stream",
     "text": [
      "/global/common/software/lsst/common/miniconda/py3-4.2.12/lib/python3.6/site-packages/GCR.py:200: UserWarning: mag_g_lsst not available; using mag_g_des instead\n",
      "  warnings.warn('{} not available; using {} instead'.format(quantities[0], q))\n",
      "/global/common/software/lsst/common/miniconda/py3-4.2.12/lib/python3.6/site-packages/GCR.py:200: UserWarning: mag_r_lsst not available; using mag_r_des instead\n",
      "  warnings.warn('{} not available; using {} instead'.format(quantities[0], q))\n"
     ]
    },
    {
     "data": {
      "image/png": "[encoded data removed]",
      "text/plain": [
       "<matplotlib.figure.Figure at 0x2b7cbe880cf8>"
      ]
     },
     "metadata": {},
     "output_type": "display_data"
    }
   ],
   "source": [
    "fig, ax = plt.subplots(ncols=2, figsize=(12,5), dpi=100)\n",
    "\n",
    "for label, gc_this in gc_all.items():\n",
    "    mag_g = gc_this.first_available('mag_g_lsst', 'mag_g_sdss', 'mag_g_des', 'mag_true_g_lsst', 'mag_true_g_sdss', 'mag_true_g_des')\n",
    "    mag_r = gc_this.first_available('mag_r_lsst', 'mag_r_sdss', 'mag_r_des', 'mag_true_r_lsst', 'mag_true_r_sdss', 'mag_true_r_des')\n",
    "    redshift = gc_this.first_available('redshift_true', 'redshift')\n",
    "    quantities_needed = [mag_g, mag_r, redshift]\n",
    "    \n",
    "    data = Table(gc_this.get_quantities(quantities_needed, [redshift + '> 0.1', redshift + '< 0.3']))\n",
    "    \n",
    "    data = data[np.isfinite(data[mag_g]) & np.isfinite(data[mag_r])]\n",
    "    data = data[data[mag_r] < 22.0]\n",
    "    \n",
    "    ax[0].hist(data[redshift], 20, normed=True, alpha=0.6, label=label);\n",
    "    ax[1].hist(data[mag_g] - data[mag_r], 20, normed=True, alpha=0.6);\n",
    "\n",
    "ax[0].legend(frameon=False);\n",
    "ax[0].set_xlabel('$z$');\n",
    "ax[1].set_xlabel('$g-r$');"
   ]
  },
  {
   "cell_type": "markdown",
   "metadata": {
    "collapsed": true
   },
   "source": [
    "## Add-on catalogs\n",
    "\n",
    "This is an example to load \"add-on\" catalogs which can be joined to the main catalog with pandas"
   ]
  },
  {
   "cell_type": "code",
   "execution_count": 54,
   "metadata": {},
   "outputs": [],
   "source": [
    "import pandas as pd"
   ]
  },
  {
   "cell_type": "code",
   "execution_count": 55,
   "metadata": {},
   "outputs": [
    {
     "name": "stderr",
     "output_type": "stream",
     "text": [
      "/global/common/software/lsst/common/miniconda/py3-4.2.12/lib/python3.6/site-packages/GCRCatalogs/alphaq.py:77: UserWarning: No md5 sum specified in the config file\n",
      "  warnings.warn('No md5 sum specified in the config file')\n"
     ]
    }
   ],
   "source": [
    "gc = GCRCatalogs.load_catalog('protoDC2_test')\n",
    "gc_tidal = GCRCatalogs.load_catalog('protoDC2_addon_tidal')"
   ]
  },
  {
   "cell_type": "code",
   "execution_count": 56,
   "metadata": {},
   "outputs": [],
   "source": [
    "data = pd.DataFrame(gc.get_quantities(['galaxy_id', 'ra', 'dec'])).set_index('galaxy_id')\n",
    "data_tidal = pd.DataFrame(gc_tidal.get_quantities(gc_tidal.list_all_quantities())).set_index('galaxy_id').join(data)"
   ]
  },
  {
   "cell_type": "code",
   "execution_count": null,
   "metadata": {},
   "outputs": [],
   "source": []
  }
 ],
 "metadata": {
  "kernelspec": {
   "display_name": "Python [default]",
   "language": "python",
   "name": "python3"
  },
  "language_info": {
   "codemirror_mode": {
    "name": "ipython",
    "version": 3
   },
   "file_extension": ".py",
   "mimetype": "text/x-python",
   "name": "python",
   "nbconvert_exporter": "python",
   "pygments_lexer": "ipython3",
   "version": "3.6.1"
  }
 },
 "nbformat": 4,
 "nbformat_minor": 2
}
